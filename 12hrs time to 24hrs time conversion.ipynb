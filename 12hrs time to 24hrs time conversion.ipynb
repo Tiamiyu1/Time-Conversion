{
 "cells": [
  {
   "cell_type": "code",
   "execution_count": 75,
   "metadata": {},
   "outputs": [],
   "source": [
    "twelve_hour_time = ['12:41am', '2:41pm', '9:32am', '3:17am', '11:50pm', '5:25pm', '6:41am', '10:28pm', '11:34am','4:48am' ]\n",
    "\n",
    "t12 = twelve_hour_time"
   ]
  },
  {
   "cell_type": "code",
   "execution_count": 58,
   "metadata": {
    "scrolled": true
   },
   "outputs": [],
   "source": [
    "# t24 = []\n",
    "# for time in t12:\n",
    "#     if time[-2:] == 'am' and int(time.split(':')[0]) == 12:\n",
    "#         time = str(int(t12[0].split(':')[0]) - 12) + str(':') + str(time.split(':')[1][0:2])\n",
    "#         t24.append(time)\n",
    "#     elif  time[-2:] == 'am' and int(time.split(':')[0]) != 12:\n",
    "#         time = str(int(time.split(':')[0])) + str(':') + str(time.split(':')[1][0:2])\n",
    "#         t24.append(time)\n",
    "#     else:\n",
    "#         time = str(int(time.split(':')[0]) + 12) + str(':') + str(time.split(':')[1][0:2])\n",
    "#         t24.append(time)\n"
   ]
  },
  {
   "cell_type": "code",
   "execution_count": 59,
   "metadata": {
    "collapsed": true
   },
   "outputs": [
    {
     "data": {
      "text/plain": [
       "['0:41',\n",
       " '14:41',\n",
       " '9:32',\n",
       " '3:17',\n",
       " '23:50',\n",
       " '17:25',\n",
       " '6:41',\n",
       " '22:28',\n",
       " '11:34',\n",
       " '4:48']"
      ]
     },
     "execution_count": 59,
     "metadata": {},
     "output_type": "execute_result"
    }
   ],
   "source": [
    "t24"
   ]
  },
  {
   "cell_type": "code",
   "execution_count": 65,
   "metadata": {},
   "outputs": [
    {
     "data": {
      "text/plain": [
       "6"
      ]
     },
     "execution_count": 65,
     "metadata": {},
     "output_type": "execute_result"
    }
   ],
   "source": []
  },
  {
   "cell_type": "code",
   "execution_count": 73,
   "metadata": {},
   "outputs": [],
   "source": [
    "# def time_cleaned(t12):\n",
    "#     new_time = []\n",
    "#     for time in t12:\n",
    "#         if len(time) < 7:\n",
    "#             t = time.replace(time[0], '0'+time[0],1)\n",
    "#             new_time.append(t)\n",
    "#         else:\n",
    "#             new_time.append(time)\n",
    "#     return new_time\n"
   ]
  },
  {
   "cell_type": "code",
   "execution_count": 74,
   "metadata": {
    "scrolled": true
   },
   "outputs": [
    {
     "data": {
      "text/plain": [
       "['12:41am',\n",
       " '02:41pm',\n",
       " '09:32am',\n",
       " '03:17am',\n",
       " '11:50pm',\n",
       " '05:25pm',\n",
       " '06:41am',\n",
       " '10:28pm',\n",
       " '11:34am',\n",
       " '04:48am']"
      ]
     },
     "execution_count": 74,
     "metadata": {},
     "output_type": "execute_result"
    }
   ],
   "source": [
    "time_cleaned(t12)"
   ]
  },
  {
   "cell_type": "code",
   "execution_count": 119,
   "metadata": {
    "scrolled": false
   },
   "outputs": [
    {
     "name": "stdout",
     "output_type": "stream",
     "text": [
      "['00:41', '14:41', '09:32', '03:17', '23:50', '17:25', '06:41', '22:28', '11:34', '04:48']\n"
     ]
    }
   ],
   "source": [
    "def time_cleaned(t12):\n",
    "    \"\"\"\n",
    "    This cleaned the time input that are not up to 7 characters like '2:34am' and add  0 to its beggining ('02:34am') \n",
    "    to make it 7 characters\n",
    "    \n",
    "    \"\"\"\n",
    "    new_time = []\n",
    "    for time in t12:\n",
    "        if len(time) < 7:\n",
    "            t = time.replace(time[0], '0'+time[0],1)\n",
    "            new_time.append(t)\n",
    "        else:\n",
    "            new_time.append(time)\n",
    "    return new_time\n",
    "\n",
    "\n",
    "def time_24hrs(t12):\n",
    "    \n",
    "    \"\"\"\n",
    "    This function takes in a list of time (str) in 24hrs formats(am/pm)  and returns a new \n",
    "    ist of the time (str) converted to 24hrs time format without the am/pm attached to it.\n",
    "    \n",
    "    \"\"\"\n",
    "    \n",
    "    t12 = time_cleaned(t12)\n",
    "    t24 = []\n",
    "    for time in t12:\n",
    "        if time[-2:] == 'am' and int(time[:2]) == 12:\n",
    "            time = '00' + time[2:-2]\n",
    "            t24.append(time)\n",
    "        elif  time[-2:] == 'pm':\n",
    "            time = str(int(time[:2]) + 12) + time[2:-2]\n",
    "            t24.append(time)\n",
    "        else:\n",
    "            time = time[:2] + time[2:-2]\n",
    "            t24.append(time)\n",
    "    return t24\n",
    "\n",
    "# Testing...\n",
    "twelve_hour_time = ['12:41am', '2:41pm', '9:32am', '3:17am', '11:50pm', '5:25pm', '6:41am', '10:28pm', '11:34am','4:48am' ]\n",
    "t12 = twelve_hour_time\n",
    "\n",
    "print(time_24hrs(t12))"
   ]
  },
  {
   "cell_type": "code",
   "execution_count": null,
   "metadata": {},
   "outputs": [],
   "source": []
  }
 ],
 "metadata": {
  "kernelspec": {
   "display_name": "Python 3",
   "language": "python",
   "name": "python3"
  },
  "language_info": {
   "codemirror_mode": {
    "name": "ipython",
    "version": 3
   },
   "file_extension": ".py",
   "mimetype": "text/x-python",
   "name": "python",
   "nbconvert_exporter": "python",
   "pygments_lexer": "ipython3",
   "version": "3.7.4"
  }
 },
 "nbformat": 4,
 "nbformat_minor": 2
}
